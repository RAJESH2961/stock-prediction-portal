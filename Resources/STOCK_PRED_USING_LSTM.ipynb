{
 "cells": [
  {
   "cell_type": "code",
   "execution_count": 1,
   "id": "a2367183-4f75-4cd0-9988-8eba5ffda352",
   "metadata": {},
   "outputs": [
    {
     "name": "stdout",
     "output_type": "stream",
     "text": [
      "Requirement already satisfied: yfinance in /opt/homebrew/Caskroom/miniconda/base/envs/stockenv/lib/python3.10/site-packages (0.2.63)\n",
      "Requirement already satisfied: pandas>=1.3.0 in /opt/homebrew/Caskroom/miniconda/base/envs/stockenv/lib/python3.10/site-packages (from yfinance) (2.2.3)\n",
      "Requirement already satisfied: numpy>=1.16.5 in /opt/homebrew/Caskroom/miniconda/base/envs/stockenv/lib/python3.10/site-packages (from yfinance) (2.1.3)\n",
      "Requirement already satisfied: requests>=2.31 in /opt/homebrew/Caskroom/miniconda/base/envs/stockenv/lib/python3.10/site-packages (from yfinance) (2.32.3)\n",
      "Requirement already satisfied: multitasking>=0.0.7 in /opt/homebrew/Caskroom/miniconda/base/envs/stockenv/lib/python3.10/site-packages (from yfinance) (0.0.11)\n",
      "Requirement already satisfied: platformdirs>=2.0.0 in /opt/homebrew/Caskroom/miniconda/base/envs/stockenv/lib/python3.10/site-packages (from yfinance) (4.3.7)\n",
      "Requirement already satisfied: pytz>=2022.5 in /opt/homebrew/Caskroom/miniconda/base/envs/stockenv/lib/python3.10/site-packages (from yfinance) (2024.1)\n",
      "Requirement already satisfied: frozendict>=2.3.4 in /opt/homebrew/Caskroom/miniconda/base/envs/stockenv/lib/python3.10/site-packages (from yfinance) (2.4.6)\n",
      "Requirement already satisfied: peewee>=3.16.2 in /opt/homebrew/Caskroom/miniconda/base/envs/stockenv/lib/python3.10/site-packages (from yfinance) (3.18.1)\n",
      "Requirement already satisfied: beautifulsoup4>=4.11.1 in /opt/homebrew/Caskroom/miniconda/base/envs/stockenv/lib/python3.10/site-packages (from yfinance) (4.12.3)\n",
      "Requirement already satisfied: curl_cffi>=0.7 in /opt/homebrew/Caskroom/miniconda/base/envs/stockenv/lib/python3.10/site-packages (from yfinance) (0.11.3)\n",
      "Requirement already satisfied: protobuf>=3.19.0 in /opt/homebrew/Caskroom/miniconda/base/envs/stockenv/lib/python3.10/site-packages (from yfinance) (5.29.5)\n",
      "Requirement already satisfied: websockets>=13.0 in /opt/homebrew/Caskroom/miniconda/base/envs/stockenv/lib/python3.10/site-packages (from yfinance) (15.0.1)\n",
      "Requirement already satisfied: soupsieve>1.2 in /opt/homebrew/Caskroom/miniconda/base/envs/stockenv/lib/python3.10/site-packages (from beautifulsoup4>=4.11.1->yfinance) (2.5)\n",
      "Requirement already satisfied: cffi>=1.12.0 in /opt/homebrew/Caskroom/miniconda/base/envs/stockenv/lib/python3.10/site-packages (from curl_cffi>=0.7->yfinance) (1.17.1)\n",
      "Requirement already satisfied: certifi>=2024.2.2 in /opt/homebrew/Caskroom/miniconda/base/envs/stockenv/lib/python3.10/site-packages (from curl_cffi>=0.7->yfinance) (2025.4.26)\n",
      "Requirement already satisfied: pycparser in /opt/homebrew/Caskroom/miniconda/base/envs/stockenv/lib/python3.10/site-packages (from cffi>=1.12.0->curl_cffi>=0.7->yfinance) (2.21)\n",
      "Requirement already satisfied: python-dateutil>=2.8.2 in /opt/homebrew/Caskroom/miniconda/base/envs/stockenv/lib/python3.10/site-packages (from pandas>=1.3.0->yfinance) (2.9.0.post0)\n",
      "Requirement already satisfied: tzdata>=2022.7 in /opt/homebrew/Caskroom/miniconda/base/envs/stockenv/lib/python3.10/site-packages (from pandas>=1.3.0->yfinance) (2025.2)\n",
      "Requirement already satisfied: six>=1.5 in /opt/homebrew/Caskroom/miniconda/base/envs/stockenv/lib/python3.10/site-packages (from python-dateutil>=2.8.2->pandas>=1.3.0->yfinance) (1.17.0)\n",
      "Requirement already satisfied: charset-normalizer<4,>=2 in /opt/homebrew/Caskroom/miniconda/base/envs/stockenv/lib/python3.10/site-packages (from requests>=2.31->yfinance) (3.3.2)\n",
      "Requirement already satisfied: idna<4,>=2.5 in /opt/homebrew/Caskroom/miniconda/base/envs/stockenv/lib/python3.10/site-packages (from requests>=2.31->yfinance) (3.7)\n",
      "Requirement already satisfied: urllib3<3,>=1.21.1 in /opt/homebrew/Caskroom/miniconda/base/envs/stockenv/lib/python3.10/site-packages (from requests>=2.31->yfinance) (2.3.0)\n"
     ]
    }
   ],
   "source": [
    "!pip install yfinance"
   ]
  },
  {
   "cell_type": "code",
   "execution_count": 2,
   "id": "6388563f-467a-40d5-a712-f22293bc6ccf",
   "metadata": {},
   "outputs": [],
   "source": [
    "import pandas as pd\n",
    "import numpy as np\n",
    "import matplotlib.pyplot as plt\n",
    "import yfinance as yf"
   ]
  },
  {
   "cell_type": "code",
   "execution_count": 3,
   "id": "153385d8-253f-42e6-97e5-43a516e8d311",
   "metadata": {},
   "outputs": [],
   "source": [
    "# Data Collection "
   ]
  },
  {
   "cell_type": "code",
   "execution_count": 4,
   "id": "e62f057e-ff21-4fb6-b56a-ef697a8b5d10",
   "metadata": {},
   "outputs": [],
   "source": [
    "from datetime import datetime"
   ]
  },
  {
   "cell_type": "code",
   "execution_count": 5,
   "id": "b60060ed-31eb-4af8-b144-01847779bf1a",
   "metadata": {},
   "outputs": [
    {
     "name": "stderr",
     "output_type": "stream",
     "text": [
      "/var/folders/1v/ydk5lrn5705cjsyclwmd_nwc0000gn/T/ipykernel_14686/2398718733.py:9: FutureWarning: YF.download() has changed argument auto_adjust default to True\n",
      "  df = yf.download(ticker, start, end)\n",
      "[*********************100%***********************]  1 of 1 completed\n"
     ]
    },
    {
     "data": {
      "text/plain": [
       "<bound method NDFrame.head of Price            Close        High         Low        Open     Volume\n",
       "Ticker            AAPL        AAPL        AAPL        AAPL       AAPL\n",
       "Date                                                                 \n",
       "2015-06-15   28.425873   28.497542   28.154873   28.242220  175955600\n",
       "2015-06-16   28.578169   28.634161   28.302691   28.450508  125976400\n",
       "2015-06-17   28.510979   28.640878   28.385556   28.605044  131672400\n",
       "2015-06-18   28.640881   28.737186   28.493063   28.495303  141628800\n",
       "2015-06-19   28.354197   28.627436   28.309404   28.602800  218867600\n",
       "...                ...         ...         ...         ...        ...\n",
       "2025-06-09  201.449997  206.000000  200.020004  204.389999   72862600\n",
       "2025-06-10  202.669998  204.350006  200.570007  200.600006   54672600\n",
       "2025-06-11  198.779999  204.500000  198.410004  203.500000   60989900\n",
       "2025-06-12  199.199997  199.679993  197.360001  199.080002   43904600\n",
       "2025-06-13  196.449997  200.369995  195.699997  199.729996   51362400\n",
       "\n",
       "[2516 rows x 5 columns]>"
      ]
     },
     "execution_count": 5,
     "metadata": {},
     "output_type": "execute_result"
    }
   ],
   "source": [
    "now = datetime.now()\n",
    "\n",
    "# Downloading data\n",
    "# ticker is an stock symbol see yahoo finance TSLA for Tesla GOOG for google\n",
    "\n",
    "ticker = 'AAPL'\n",
    "start = datetime(now.year-10, now.month, now.day) # 2024- 10 = 2014 (10 years data)\n",
    "end = now\n",
    "df = yf.download(ticker, start, end)\n",
    "df.head"
   ]
  },
  {
   "cell_type": "code",
   "execution_count": 6,
   "id": "76df78e9-5087-4760-a045-79f24130bc6c",
   "metadata": {},
   "outputs": [
    {
     "data": {
      "text/html": [
       "<div>\n",
       "<style scoped>\n",
       "    .dataframe tbody tr th:only-of-type {\n",
       "        vertical-align: middle;\n",
       "    }\n",
       "\n",
       "    .dataframe tbody tr th {\n",
       "        vertical-align: top;\n",
       "    }\n",
       "\n",
       "    .dataframe thead tr th {\n",
       "        text-align: left;\n",
       "    }\n",
       "\n",
       "    .dataframe thead tr:last-of-type th {\n",
       "        text-align: right;\n",
       "    }\n",
       "</style>\n",
       "<table border=\"1\" class=\"dataframe\">\n",
       "  <thead>\n",
       "    <tr>\n",
       "      <th>Price</th>\n",
       "      <th>Close</th>\n",
       "      <th>High</th>\n",
       "      <th>Low</th>\n",
       "      <th>Open</th>\n",
       "      <th>Volume</th>\n",
       "    </tr>\n",
       "    <tr>\n",
       "      <th>Ticker</th>\n",
       "      <th>AAPL</th>\n",
       "      <th>AAPL</th>\n",
       "      <th>AAPL</th>\n",
       "      <th>AAPL</th>\n",
       "      <th>AAPL</th>\n",
       "    </tr>\n",
       "    <tr>\n",
       "      <th>Date</th>\n",
       "      <th></th>\n",
       "      <th></th>\n",
       "      <th></th>\n",
       "      <th></th>\n",
       "      <th></th>\n",
       "    </tr>\n",
       "  </thead>\n",
       "  <tbody>\n",
       "    <tr>\n",
       "      <th>2015-06-15</th>\n",
       "      <td>28.425873</td>\n",
       "      <td>28.497542</td>\n",
       "      <td>28.154873</td>\n",
       "      <td>28.242220</td>\n",
       "      <td>175955600</td>\n",
       "    </tr>\n",
       "    <tr>\n",
       "      <th>2015-06-16</th>\n",
       "      <td>28.578169</td>\n",
       "      <td>28.634161</td>\n",
       "      <td>28.302691</td>\n",
       "      <td>28.450508</td>\n",
       "      <td>125976400</td>\n",
       "    </tr>\n",
       "    <tr>\n",
       "      <th>2015-06-17</th>\n",
       "      <td>28.510979</td>\n",
       "      <td>28.640878</td>\n",
       "      <td>28.385556</td>\n",
       "      <td>28.605044</td>\n",
       "      <td>131672400</td>\n",
       "    </tr>\n",
       "    <tr>\n",
       "      <th>2015-06-18</th>\n",
       "      <td>28.640881</td>\n",
       "      <td>28.737186</td>\n",
       "      <td>28.493063</td>\n",
       "      <td>28.495303</td>\n",
       "      <td>141628800</td>\n",
       "    </tr>\n",
       "    <tr>\n",
       "      <th>2015-06-19</th>\n",
       "      <td>28.354197</td>\n",
       "      <td>28.627436</td>\n",
       "      <td>28.309404</td>\n",
       "      <td>28.602800</td>\n",
       "      <td>218867600</td>\n",
       "    </tr>\n",
       "  </tbody>\n",
       "</table>\n",
       "</div>"
      ],
      "text/plain": [
       "Price           Close       High        Low       Open     Volume\n",
       "Ticker           AAPL       AAPL       AAPL       AAPL       AAPL\n",
       "Date                                                             \n",
       "2015-06-15  28.425873  28.497542  28.154873  28.242220  175955600\n",
       "2015-06-16  28.578169  28.634161  28.302691  28.450508  125976400\n",
       "2015-06-17  28.510979  28.640878  28.385556  28.605044  131672400\n",
       "2015-06-18  28.640881  28.737186  28.493063  28.495303  141628800\n",
       "2015-06-19  28.354197  28.627436  28.309404  28.602800  218867600"
      ]
     },
     "execution_count": 6,
     "metadata": {},
     "output_type": "execute_result"
    }
   ],
   "source": [
    "df.head()"
   ]
  },
  {
   "cell_type": "code",
   "execution_count": 7,
   "id": "79069cf8-c7ad-430d-94d4-e7e387b1be45",
   "metadata": {},
   "outputs": [],
   "source": [
    "# 2-Data Exploration & visualization"
   ]
  },
  {
   "cell_type": "code",
   "execution_count": 8,
   "id": "9e1f0783-ffc9-44b9-ac15-2573a586c5ca",
   "metadata": {},
   "outputs": [
    {
     "data": {
      "text/plain": [
       "pandas.core.frame.DataFrame"
      ]
     },
     "execution_count": 8,
     "metadata": {},
     "output_type": "execute_result"
    }
   ],
   "source": [
    "type(df)"
   ]
  },
  {
   "cell_type": "code",
   "execution_count": 9,
   "id": "197a9ddc-a0ab-448e-8d90-eb91e8374936",
   "metadata": {},
   "outputs": [
    {
     "data": {
      "text/plain": [
       "(2516, 5)"
      ]
     },
     "execution_count": 9,
     "metadata": {},
     "output_type": "execute_result"
    }
   ],
   "source": [
    "df.shape"
   ]
  },
  {
   "cell_type": "code",
   "execution_count": 10,
   "id": "7e793191-357a-48c7-ba54-ee4fe89d1051",
   "metadata": {},
   "outputs": [
    {
     "data": {
      "text/plain": [
       "Price   Ticker\n",
       "Close   AAPL      0\n",
       "High    AAPL      0\n",
       "Low     AAPL      0\n",
       "Open    AAPL      0\n",
       "Volume  AAPL      0\n",
       "dtype: int64"
      ]
     },
     "execution_count": 10,
     "metadata": {},
     "output_type": "execute_result"
    }
   ],
   "source": [
    "# Drop null values if there is..\n",
    "df.isna().sum()"
   ]
  },
  {
   "cell_type": "code",
   "execution_count": 11,
   "id": "19961fd3-3ed2-4bee-8726-17fbfe1f5beb",
   "metadata": {},
   "outputs": [
    {
     "data": {
      "text/html": [
       "<div>\n",
       "<style scoped>\n",
       "    .dataframe tbody tr th:only-of-type {\n",
       "        vertical-align: middle;\n",
       "    }\n",
       "\n",
       "    .dataframe tbody tr th {\n",
       "        vertical-align: top;\n",
       "    }\n",
       "\n",
       "    .dataframe thead tr th {\n",
       "        text-align: left;\n",
       "    }\n",
       "</style>\n",
       "<table border=\"1\" class=\"dataframe\">\n",
       "  <thead>\n",
       "    <tr>\n",
       "      <th>Price</th>\n",
       "      <th>Close</th>\n",
       "      <th>High</th>\n",
       "      <th>Low</th>\n",
       "      <th>Open</th>\n",
       "      <th>Volume</th>\n",
       "    </tr>\n",
       "    <tr>\n",
       "      <th>Ticker</th>\n",
       "      <th>AAPL</th>\n",
       "      <th>AAPL</th>\n",
       "      <th>AAPL</th>\n",
       "      <th>AAPL</th>\n",
       "      <th>AAPL</th>\n",
       "    </tr>\n",
       "  </thead>\n",
       "  <tbody>\n",
       "    <tr>\n",
       "      <th>count</th>\n",
       "      <td>2516.000000</td>\n",
       "      <td>2516.000000</td>\n",
       "      <td>2516.000000</td>\n",
       "      <td>2516.000000</td>\n",
       "      <td>2.516000e+03</td>\n",
       "    </tr>\n",
       "    <tr>\n",
       "      <th>mean</th>\n",
       "      <td>102.516362</td>\n",
       "      <td>103.545981</td>\n",
       "      <td>101.374968</td>\n",
       "      <td>102.418432</td>\n",
       "      <td>1.102522e+08</td>\n",
       "    </tr>\n",
       "    <tr>\n",
       "      <th>std</th>\n",
       "      <td>68.757034</td>\n",
       "      <td>69.433317</td>\n",
       "      <td>67.989032</td>\n",
       "      <td>68.680203</td>\n",
       "      <td>6.447689e+07</td>\n",
       "    </tr>\n",
       "    <tr>\n",
       "      <th>min</th>\n",
       "      <td>20.647457</td>\n",
       "      <td>20.951435</td>\n",
       "      <td>20.448617</td>\n",
       "      <td>20.569752</td>\n",
       "      <td>2.323470e+07</td>\n",
       "    </tr>\n",
       "    <tr>\n",
       "      <th>25%</th>\n",
       "      <td>38.236646</td>\n",
       "      <td>38.545720</td>\n",
       "      <td>37.566303</td>\n",
       "      <td>38.251858</td>\n",
       "      <td>6.755570e+07</td>\n",
       "    </tr>\n",
       "    <tr>\n",
       "      <th>50%</th>\n",
       "      <td>83.473988</td>\n",
       "      <td>84.917526</td>\n",
       "      <td>81.374337</td>\n",
       "      <td>84.159310</td>\n",
       "      <td>9.476420e+07</td>\n",
       "    </tr>\n",
       "    <tr>\n",
       "      <th>75%</th>\n",
       "      <td>162.911385</td>\n",
       "      <td>164.436394</td>\n",
       "      <td>161.100197</td>\n",
       "      <td>162.664987</td>\n",
       "      <td>1.342539e+08</td>\n",
       "    </tr>\n",
       "    <tr>\n",
       "      <th>max</th>\n",
       "      <td>258.396667</td>\n",
       "      <td>259.474086</td>\n",
       "      <td>257.010028</td>\n",
       "      <td>257.568678</td>\n",
       "      <td>6.488252e+08</td>\n",
       "    </tr>\n",
       "  </tbody>\n",
       "</table>\n",
       "</div>"
      ],
      "text/plain": [
       "Price         Close         High          Low         Open        Volume\n",
       "Ticker         AAPL         AAPL         AAPL         AAPL          AAPL\n",
       "count   2516.000000  2516.000000  2516.000000  2516.000000  2.516000e+03\n",
       "mean     102.516362   103.545981   101.374968   102.418432  1.102522e+08\n",
       "std       68.757034    69.433317    67.989032    68.680203  6.447689e+07\n",
       "min       20.647457    20.951435    20.448617    20.569752  2.323470e+07\n",
       "25%       38.236646    38.545720    37.566303    38.251858  6.755570e+07\n",
       "50%       83.473988    84.917526    81.374337    84.159310  9.476420e+07\n",
       "75%      162.911385   164.436394   161.100197   162.664987  1.342539e+08\n",
       "max      258.396667   259.474086   257.010028   257.568678  6.488252e+08"
      ]
     },
     "execution_count": 11,
     "metadata": {},
     "output_type": "execute_result"
    }
   ],
   "source": [
    "# Stastical overview\n",
    "df.describe()"
   ]
  },
  {
   "cell_type": "code",
   "execution_count": 12,
   "id": "c2c516c5-348f-4691-9622-9b1f08d8cd93",
   "metadata": {},
   "outputs": [
    {
     "data": {
      "text/plain": [
       "Price   Ticker\n",
       "Close   AAPL      float64\n",
       "High    AAPL      float64\n",
       "Low     AAPL      float64\n",
       "Open    AAPL      float64\n",
       "Volume  AAPL        int64\n",
       "dtype: object"
      ]
     },
     "execution_count": 12,
     "metadata": {},
     "output_type": "execute_result"
    }
   ],
   "source": [
    "df.dtypes"
   ]
  },
  {
   "cell_type": "code",
   "execution_count": 13,
   "id": "7d4eb7f1-e8f1-46ca-adc4-e4bfa0a303f7",
   "metadata": {},
   "outputs": [],
   "source": [
    "# reset Index instead of data it will start from 0 to n\n",
    "df = df.reset_index()"
   ]
  },
  {
   "cell_type": "code",
   "execution_count": 14,
   "id": "4540e419-2aa5-48b3-b1de-7b2eb3e408ea",
   "metadata": {},
   "outputs": [
    {
     "data": {
      "text/html": [
       "<div>\n",
       "<style scoped>\n",
       "    .dataframe tbody tr th:only-of-type {\n",
       "        vertical-align: middle;\n",
       "    }\n",
       "\n",
       "    .dataframe tbody tr th {\n",
       "        vertical-align: top;\n",
       "    }\n",
       "\n",
       "    .dataframe thead tr th {\n",
       "        text-align: left;\n",
       "    }\n",
       "</style>\n",
       "<table border=\"1\" class=\"dataframe\">\n",
       "  <thead>\n",
       "    <tr>\n",
       "      <th>Price</th>\n",
       "      <th>Date</th>\n",
       "      <th>Close</th>\n",
       "      <th>High</th>\n",
       "      <th>Low</th>\n",
       "      <th>Open</th>\n",
       "      <th>Volume</th>\n",
       "    </tr>\n",
       "    <tr>\n",
       "      <th>Ticker</th>\n",
       "      <th></th>\n",
       "      <th>AAPL</th>\n",
       "      <th>AAPL</th>\n",
       "      <th>AAPL</th>\n",
       "      <th>AAPL</th>\n",
       "      <th>AAPL</th>\n",
       "    </tr>\n",
       "  </thead>\n",
       "  <tbody>\n",
       "    <tr>\n",
       "      <th>0</th>\n",
       "      <td>2015-06-15</td>\n",
       "      <td>28.425873</td>\n",
       "      <td>28.497542</td>\n",
       "      <td>28.154873</td>\n",
       "      <td>28.242220</td>\n",
       "      <td>175955600</td>\n",
       "    </tr>\n",
       "    <tr>\n",
       "      <th>1</th>\n",
       "      <td>2015-06-16</td>\n",
       "      <td>28.578169</td>\n",
       "      <td>28.634161</td>\n",
       "      <td>28.302691</td>\n",
       "      <td>28.450508</td>\n",
       "      <td>125976400</td>\n",
       "    </tr>\n",
       "    <tr>\n",
       "      <th>2</th>\n",
       "      <td>2015-06-17</td>\n",
       "      <td>28.510979</td>\n",
       "      <td>28.640878</td>\n",
       "      <td>28.385556</td>\n",
       "      <td>28.605044</td>\n",
       "      <td>131672400</td>\n",
       "    </tr>\n",
       "    <tr>\n",
       "      <th>3</th>\n",
       "      <td>2015-06-18</td>\n",
       "      <td>28.640881</td>\n",
       "      <td>28.737186</td>\n",
       "      <td>28.493063</td>\n",
       "      <td>28.495303</td>\n",
       "      <td>141628800</td>\n",
       "    </tr>\n",
       "    <tr>\n",
       "      <th>4</th>\n",
       "      <td>2015-06-19</td>\n",
       "      <td>28.354197</td>\n",
       "      <td>28.627436</td>\n",
       "      <td>28.309404</td>\n",
       "      <td>28.602800</td>\n",
       "      <td>218867600</td>\n",
       "    </tr>\n",
       "  </tbody>\n",
       "</table>\n",
       "</div>"
      ],
      "text/plain": [
       "Price        Date      Close       High        Low       Open     Volume\n",
       "Ticker                  AAPL       AAPL       AAPL       AAPL       AAPL\n",
       "0      2015-06-15  28.425873  28.497542  28.154873  28.242220  175955600\n",
       "1      2015-06-16  28.578169  28.634161  28.302691  28.450508  125976400\n",
       "2      2015-06-17  28.510979  28.640878  28.385556  28.605044  131672400\n",
       "3      2015-06-18  28.640881  28.737186  28.493063  28.495303  141628800\n",
       "4      2015-06-19  28.354197  28.627436  28.309404  28.602800  218867600"
      ]
     },
     "execution_count": 14,
     "metadata": {},
     "output_type": "execute_result"
    }
   ],
   "source": [
    "df.head()"
   ]
  },
  {
   "cell_type": "code",
   "execution_count": 15,
   "id": "7f396292-ea56-46e0-891b-42d24a7b413a",
   "metadata": {},
   "outputs": [
    {
     "data": {
      "text/plain": [
       "Text(0, 0.5, 'Close Price')"
      ]
     },
     "execution_count": 15,
     "metadata": {},
     "output_type": "execute_result"
    },
    {
     "data": {
      "image/png": "[encoded data removed]",
      "text/plain": [
       "<Figure size 1200x500 with 1 Axes>"
      ]
     },
     "metadata": {},
     "output_type": "display_data"
    }
   ],
   "source": [
    "plt.figure(figsize=(12,5))\n",
    "plt.plot(df.Close)\n",
    "plt.title(ticker)\n",
    "plt.xlabel('Days')\n",
    "plt.ylabel('Close Price')"
   ]
  },
  {
   "cell_type": "code",
   "execution_count": 16,
   "id": "11192fd3-9ca1-4e6e-81eb-febb01369c76",
   "metadata": {},
   "outputs": [],
   "source": [
    "# 3- Feature ENgineering\n",
    "# creating new features from the exiting data so that the model predicts data accurately"
   ]
  },
  {
   "cell_type": "code",
   "execution_count": 17,
   "id": "49e5aba0-c1ac-498b-81bd-3a8a493b72a9",
   "metadata": {},
   "outputs": [],
   "source": [
    "# In stock prediction stock predictors calculate the moving average to predicts the stocks (noise and smoothness)"
   ]
  },
  {
   "cell_type": "code",
   "execution_count": 18,
   "id": "28fec7be-e86b-456a-bd7c-a0e95b930e20",
   "metadata": {},
   "outputs": [
    {
     "name": "stdout",
     "output_type": "stream",
     "text": [
      "50.0\n"
     ]
    }
   ],
   "source": [
    "# 10, 20, 30, 40, 50, 60, 70, 80, 90, 100\n",
    "# Moving average of 5 days (prev 5 data /5)\n",
    "# MA of 5 daya --> null null null null (10+20+30+40+50)/5 = 30 40\n",
    "\n",
    "temp_df = [10, 20, 30, 40, 50, 60, 70, 80, 90, 100]\n",
    "print(sum(temp_df[2:7])/5)\n"
   ]
  },
  {
   "cell_type": "code",
   "execution_count": 19,
   "id": "46f5751c-e6fa-485d-9fd0-68543a5b6e6f",
   "metadata": {},
   "outputs": [
    {
     "data": {
      "text/html": [
       "<div>\n",
       "<style scoped>\n",
       "    .dataframe tbody tr th:only-of-type {\n",
       "        vertical-align: middle;\n",
       "    }\n",
       "\n",
       "    .dataframe tbody tr th {\n",
       "        vertical-align: top;\n",
       "    }\n",
       "\n",
       "    .dataframe thead th {\n",
       "        text-align: right;\n",
       "    }\n",
       "</style>\n",
       "<table border=\"1\" class=\"dataframe\">\n",
       "  <thead>\n",
       "    <tr style=\"text-align: right;\">\n",
       "      <th></th>\n",
       "      <th>0</th>\n",
       "    </tr>\n",
       "  </thead>\n",
       "  <tbody>\n",
       "    <tr>\n",
       "      <th>0</th>\n",
       "      <td>10</td>\n",
       "    </tr>\n",
       "    <tr>\n",
       "      <th>1</th>\n",
       "      <td>20</td>\n",
       "    </tr>\n",
       "    <tr>\n",
       "      <th>2</th>\n",
       "      <td>30</td>\n",
       "    </tr>\n",
       "    <tr>\n",
       "      <th>3</th>\n",
       "      <td>40</td>\n",
       "    </tr>\n",
       "    <tr>\n",
       "      <th>4</th>\n",
       "      <td>50</td>\n",
       "    </tr>\n",
       "    <tr>\n",
       "      <th>5</th>\n",
       "      <td>60</td>\n",
       "    </tr>\n",
       "    <tr>\n",
       "      <th>6</th>\n",
       "      <td>70</td>\n",
       "    </tr>\n",
       "    <tr>\n",
       "      <th>7</th>\n",
       "      <td>80</td>\n",
       "    </tr>\n",
       "    <tr>\n",
       "      <th>8</th>\n",
       "      <td>90</td>\n",
       "    </tr>\n",
       "    <tr>\n",
       "      <th>9</th>\n",
       "      <td>100</td>\n",
       "    </tr>\n",
       "  </tbody>\n",
       "</table>\n",
       "</div>"
      ],
      "text/plain": [
       "     0\n",
       "0   10\n",
       "1   20\n",
       "2   30\n",
       "3   40\n",
       "4   50\n",
       "5   60\n",
       "6   70\n",
       "7   80\n",
       "8   90\n",
       "9  100"
      ]
     },
     "execution_count": 19,
     "metadata": {},
     "output_type": "execute_result"
    }
   ],
   "source": [
    "df1 = pd.DataFrame([10, 20, 30, 40, 50, 60, 70, 80, 90, 100])\n",
    "df1"
   ]
  },
  {
   "cell_type": "code",
   "execution_count": 20,
   "id": "d2f3d044-08b7-45bc-8f7b-bb493c180e66",
   "metadata": {},
   "outputs": [
    {
     "data": {
      "text/html": [
       "<div>\n",
       "<style scoped>\n",
       "    .dataframe tbody tr th:only-of-type {\n",
       "        vertical-align: middle;\n",
       "    }\n",
       "\n",
       "    .dataframe tbody tr th {\n",
       "        vertical-align: top;\n",
       "    }\n",
       "\n",
       "    .dataframe thead th {\n",
       "        text-align: right;\n",
       "    }\n",
       "</style>\n",
       "<table border=\"1\" class=\"dataframe\">\n",
       "  <thead>\n",
       "    <tr style=\"text-align: right;\">\n",
       "      <th></th>\n",
       "      <th>0</th>\n",
       "      <th>MA_5</th>\n",
       "    </tr>\n",
       "  </thead>\n",
       "  <tbody>\n",
       "    <tr>\n",
       "      <th>0</th>\n",
       "      <td>10</td>\n",
       "      <td>NaN</td>\n",
       "    </tr>\n",
       "    <tr>\n",
       "      <th>1</th>\n",
       "      <td>20</td>\n",
       "      <td>NaN</td>\n",
       "    </tr>\n",
       "    <tr>\n",
       "      <th>2</th>\n",
       "      <td>30</td>\n",
       "      <td>NaN</td>\n",
       "    </tr>\n",
       "    <tr>\n",
       "      <th>3</th>\n",
       "      <td>40</td>\n",
       "      <td>NaN</td>\n",
       "    </tr>\n",
       "    <tr>\n",
       "      <th>4</th>\n",
       "      <td>50</td>\n",
       "      <td>30.0</td>\n",
       "    </tr>\n",
       "    <tr>\n",
       "      <th>5</th>\n",
       "      <td>60</td>\n",
       "      <td>40.0</td>\n",
       "    </tr>\n",
       "    <tr>\n",
       "      <th>6</th>\n",
       "      <td>70</td>\n",
       "      <td>50.0</td>\n",
       "    </tr>\n",
       "    <tr>\n",
       "      <th>7</th>\n",
       "      <td>80</td>\n",
       "      <td>60.0</td>\n",
       "    </tr>\n",
       "    <tr>\n",
       "      <th>8</th>\n",
       "      <td>90</td>\n",
       "      <td>70.0</td>\n",
       "    </tr>\n",
       "    <tr>\n",
       "      <th>9</th>\n",
       "      <td>100</td>\n",
       "      <td>80.0</td>\n",
       "    </tr>\n",
       "  </tbody>\n",
       "</table>\n",
       "</div>"
      ],
      "text/plain": [
       "     0  MA_5\n",
       "0   10   NaN\n",
       "1   20   NaN\n",
       "2   30   NaN\n",
       "3   40   NaN\n",
       "4   50  30.0\n",
       "5   60  40.0\n",
       "6   70  50.0\n",
       "7   80  60.0\n",
       "8   90  70.0\n",
       "9  100  80.0"
      ]
     },
     "execution_count": 20,
     "metadata": {},
     "output_type": "execute_result"
    }
   ],
   "source": [
    "df1['MA_5'] = df1.rolling(5).mean()\n",
    "df1"
   ]
  },
  {
   "cell_type": "code",
   "execution_count": null,
   "id": "fde392a4-2945-4af0-a04a-2d23d963cae4",
   "metadata": {},
   "outputs": [],
   "source": []
  },
  {
   "cell_type": "code",
   "execution_count": 21,
   "id": "3de0b294-6237-4409-bb2b-2dae0f1a919e",
   "metadata": {},
   "outputs": [],
   "source": [
    "### 100 daya Moving Average"
   ]
  },
  {
   "cell_type": "code",
   "execution_count": 22,
   "id": "74dbddbf-d196-4612-8162-51b28269ef26",
   "metadata": {},
   "outputs": [],
   "source": [
    "### 100 daya Moving Average"
   ]
  },
  {
   "cell_type": "code",
   "execution_count": 23,
   "id": "91b17106-1f12-4abd-a500-42f0cc4acf22",
   "metadata": {},
   "outputs": [
    {
     "data": {
      "text/html": [
       "<div>\n",
       "<style scoped>\n",
       "    .dataframe tbody tr th:only-of-type {\n",
       "        vertical-align: middle;\n",
       "    }\n",
       "\n",
       "    .dataframe tbody tr th {\n",
       "        vertical-align: top;\n",
       "    }\n",
       "\n",
       "    .dataframe thead tr th {\n",
       "        text-align: left;\n",
       "    }\n",
       "</style>\n",
       "<table border=\"1\" class=\"dataframe\">\n",
       "  <thead>\n",
       "    <tr>\n",
       "      <th>Price</th>\n",
       "      <th>Date</th>\n",
       "      <th>Close</th>\n",
       "      <th>High</th>\n",
       "      <th>Low</th>\n",
       "      <th>Open</th>\n",
       "      <th>Volume</th>\n",
       "      <th>MA_100</th>\n",
       "    </tr>\n",
       "    <tr>\n",
       "      <th>Ticker</th>\n",
       "      <th></th>\n",
       "      <th>AAPL</th>\n",
       "      <th>AAPL</th>\n",
       "      <th>AAPL</th>\n",
       "      <th>AAPL</th>\n",
       "      <th>AAPL</th>\n",
       "      <th></th>\n",
       "    </tr>\n",
       "  </thead>\n",
       "  <tbody>\n",
       "    <tr>\n",
       "      <th>0</th>\n",
       "      <td>2015-06-15</td>\n",
       "      <td>28.425873</td>\n",
       "      <td>28.497542</td>\n",
       "      <td>28.154873</td>\n",
       "      <td>28.242220</td>\n",
       "      <td>175955600</td>\n",
       "      <td>NaN</td>\n",
       "    </tr>\n",
       "    <tr>\n",
       "      <th>1</th>\n",
       "      <td>2015-06-16</td>\n",
       "      <td>28.578169</td>\n",
       "      <td>28.634161</td>\n",
       "      <td>28.302691</td>\n",
       "      <td>28.450508</td>\n",
       "      <td>125976400</td>\n",
       "      <td>NaN</td>\n",
       "    </tr>\n",
       "    <tr>\n",
       "      <th>2</th>\n",
       "      <td>2015-06-17</td>\n",
       "      <td>28.510979</td>\n",
       "      <td>28.640878</td>\n",
       "      <td>28.385556</td>\n",
       "      <td>28.605044</td>\n",
       "      <td>131672400</td>\n",
       "      <td>NaN</td>\n",
       "    </tr>\n",
       "    <tr>\n",
       "      <th>3</th>\n",
       "      <td>2015-06-18</td>\n",
       "      <td>28.640881</td>\n",
       "      <td>28.737186</td>\n",
       "      <td>28.493063</td>\n",
       "      <td>28.495303</td>\n",
       "      <td>141628800</td>\n",
       "      <td>NaN</td>\n",
       "    </tr>\n",
       "    <tr>\n",
       "      <th>4</th>\n",
       "      <td>2015-06-19</td>\n",
       "      <td>28.354197</td>\n",
       "      <td>28.627436</td>\n",
       "      <td>28.309404</td>\n",
       "      <td>28.602800</td>\n",
       "      <td>218867600</td>\n",
       "      <td>NaN</td>\n",
       "    </tr>\n",
       "  </tbody>\n",
       "</table>\n",
       "</div>"
      ],
      "text/plain": [
       "Price        Date      Close       High        Low       Open     Volume  \\\n",
       "Ticker                  AAPL       AAPL       AAPL       AAPL       AAPL   \n",
       "0      2015-06-15  28.425873  28.497542  28.154873  28.242220  175955600   \n",
       "1      2015-06-16  28.578169  28.634161  28.302691  28.450508  125976400   \n",
       "2      2015-06-17  28.510979  28.640878  28.385556  28.605044  131672400   \n",
       "3      2015-06-18  28.640881  28.737186  28.493063  28.495303  141628800   \n",
       "4      2015-06-19  28.354197  28.627436  28.309404  28.602800  218867600   \n",
       "\n",
       "Price  MA_100  \n",
       "Ticker         \n",
       "0         NaN  \n",
       "1         NaN  \n",
       "2         NaN  \n",
       "3         NaN  \n",
       "4         NaN  "
      ]
     },
     "execution_count": 23,
     "metadata": {},
     "output_type": "execute_result"
    }
   ],
   "source": [
    "df['MA_100'] = df.Close.rolling(100).mean()\n",
    "df.head()"
   ]
  },
  {
   "cell_type": "code",
   "execution_count": 24,
   "id": "ac8e8fd4-8f86-40d3-ac2f-3555bf53fa94",
   "metadata": {},
   "outputs": [
    {
     "data": {
      "text/html": [
       "<div>\n",
       "<style scoped>\n",
       "    .dataframe tbody tr th:only-of-type {\n",
       "        vertical-align: middle;\n",
       "    }\n",
       "\n",
       "    .dataframe tbody tr th {\n",
       "        vertical-align: top;\n",
       "    }\n",
       "\n",
       "    .dataframe thead tr th {\n",
       "        text-align: left;\n",
       "    }\n",
       "</style>\n",
       "<table border=\"1\" class=\"dataframe\">\n",
       "  <thead>\n",
       "    <tr>\n",
       "      <th>Price</th>\n",
       "      <th>Date</th>\n",
       "      <th>Close</th>\n",
       "      <th>High</th>\n",
       "      <th>Low</th>\n",
       "      <th>Open</th>\n",
       "      <th>Volume</th>\n",
       "      <th>MA_100</th>\n",
       "    </tr>\n",
       "    <tr>\n",
       "      <th>Ticker</th>\n",
       "      <th></th>\n",
       "      <th>AAPL</th>\n",
       "      <th>AAPL</th>\n",
       "      <th>AAPL</th>\n",
       "      <th>AAPL</th>\n",
       "      <th>AAPL</th>\n",
       "      <th></th>\n",
       "    </tr>\n",
       "  </thead>\n",
       "  <tbody>\n",
       "    <tr>\n",
       "      <th>0</th>\n",
       "      <td>2015-06-15</td>\n",
       "      <td>28.425873</td>\n",
       "      <td>28.497542</td>\n",
       "      <td>28.154873</td>\n",
       "      <td>28.242220</td>\n",
       "      <td>175955600</td>\n",
       "      <td>NaN</td>\n",
       "    </tr>\n",
       "    <tr>\n",
       "      <th>1</th>\n",
       "      <td>2015-06-16</td>\n",
       "      <td>28.578169</td>\n",
       "      <td>28.634161</td>\n",
       "      <td>28.302691</td>\n",
       "      <td>28.450508</td>\n",
       "      <td>125976400</td>\n",
       "      <td>NaN</td>\n",
       "    </tr>\n",
       "    <tr>\n",
       "      <th>2</th>\n",
       "      <td>2015-06-17</td>\n",
       "      <td>28.510979</td>\n",
       "      <td>28.640878</td>\n",
       "      <td>28.385556</td>\n",
       "      <td>28.605044</td>\n",
       "      <td>131672400</td>\n",
       "      <td>NaN</td>\n",
       "    </tr>\n",
       "    <tr>\n",
       "      <th>3</th>\n",
       "      <td>2015-06-18</td>\n",
       "      <td>28.640881</td>\n",
       "      <td>28.737186</td>\n",
       "      <td>28.493063</td>\n",
       "      <td>28.495303</td>\n",
       "      <td>141628800</td>\n",
       "      <td>NaN</td>\n",
       "    </tr>\n",
       "    <tr>\n",
       "      <th>4</th>\n",
       "      <td>2015-06-19</td>\n",
       "      <td>28.354197</td>\n",
       "      <td>28.627436</td>\n",
       "      <td>28.309404</td>\n",
       "      <td>28.602800</td>\n",
       "      <td>218867600</td>\n",
       "      <td>NaN</td>\n",
       "    </tr>\n",
       "    <tr>\n",
       "      <th>...</th>\n",
       "      <td>...</td>\n",
       "      <td>...</td>\n",
       "      <td>...</td>\n",
       "      <td>...</td>\n",
       "      <td>...</td>\n",
       "      <td>...</td>\n",
       "      <td>...</td>\n",
       "    </tr>\n",
       "    <tr>\n",
       "      <th>98</th>\n",
       "      <td>2015-11-02</td>\n",
       "      <td>27.263155</td>\n",
       "      <td>27.303652</td>\n",
       "      <td>26.909935</td>\n",
       "      <td>27.177663</td>\n",
       "      <td>128813200</td>\n",
       "      <td>NaN</td>\n",
       "    </tr>\n",
       "    <tr>\n",
       "      <th>99</th>\n",
       "      <td>2015-11-03</td>\n",
       "      <td>27.575871</td>\n",
       "      <td>27.782852</td>\n",
       "      <td>27.155156</td>\n",
       "      <td>27.175405</td>\n",
       "      <td>182076000</td>\n",
       "      <td>26.429576</td>\n",
       "    </tr>\n",
       "    <tr>\n",
       "      <th>100</th>\n",
       "      <td>2015-11-04</td>\n",
       "      <td>27.447630</td>\n",
       "      <td>27.857095</td>\n",
       "      <td>27.362138</td>\n",
       "      <td>27.701857</td>\n",
       "      <td>179544400</td>\n",
       "      <td>26.419794</td>\n",
       "    </tr>\n",
       "    <tr>\n",
       "      <th>101</th>\n",
       "      <td>2015-11-05</td>\n",
       "      <td>27.321102</td>\n",
       "      <td>27.721023</td>\n",
       "      <td>27.153904</td>\n",
       "      <td>27.531230</td>\n",
       "      <td>158210800</td>\n",
       "      <td>26.407223</td>\n",
       "    </tr>\n",
       "    <tr>\n",
       "      <th>102</th>\n",
       "      <td>2015-11-06</td>\n",
       "      <td>27.352736</td>\n",
       "      <td>27.522193</td>\n",
       "      <td>27.253321</td>\n",
       "      <td>27.364033</td>\n",
       "      <td>132169200</td>\n",
       "      <td>26.395641</td>\n",
       "    </tr>\n",
       "  </tbody>\n",
       "</table>\n",
       "<p>103 rows × 7 columns</p>\n",
       "</div>"
      ],
      "text/plain": [
       "Price        Date      Close       High        Low       Open     Volume  \\\n",
       "Ticker                  AAPL       AAPL       AAPL       AAPL       AAPL   \n",
       "0      2015-06-15  28.425873  28.497542  28.154873  28.242220  175955600   \n",
       "1      2015-06-16  28.578169  28.634161  28.302691  28.450508  125976400   \n",
       "2      2015-06-17  28.510979  28.640878  28.385556  28.605044  131672400   \n",
       "3      2015-06-18  28.640881  28.737186  28.493063  28.495303  141628800   \n",
       "4      2015-06-19  28.354197  28.627436  28.309404  28.602800  218867600   \n",
       "..            ...        ...        ...        ...        ...        ...   \n",
       "98     2015-11-02  27.263155  27.303652  26.909935  27.177663  128813200   \n",
       "99     2015-11-03  27.575871  27.782852  27.155156  27.175405  182076000   \n",
       "100    2015-11-04  27.447630  27.857095  27.362138  27.701857  179544400   \n",
       "101    2015-11-05  27.321102  27.721023  27.153904  27.531230  158210800   \n",
       "102    2015-11-06  27.352736  27.522193  27.253321  27.364033  132169200   \n",
       "\n",
       "Price      MA_100  \n",
       "Ticker             \n",
       "0             NaN  \n",
       "1             NaN  \n",
       "2             NaN  \n",
       "3             NaN  \n",
       "4             NaN  \n",
       "..            ...  \n",
       "98            NaN  \n",
       "99      26.429576  \n",
       "100     26.419794  \n",
       "101     26.407223  \n",
       "102     26.395641  \n",
       "\n",
       "[103 rows x 7 columns]"
      ]
     },
     "execution_count": 24,
     "metadata": {},
     "output_type": "execute_result"
    }
   ],
   "source": [
    "df.head(103)"
   ]
  },
  {
   "cell_type": "code",
   "execution_count": 25,
   "id": "3aa95b57-c082-44aa-ba01-02e7f7b845bc",
   "metadata": {},
   "outputs": [
    {
     "data": {
      "text/plain": [
       "Text(0, 0.5, 'Price')"
      ]
     },
     "execution_count": 25,
     "metadata": {},
     "output_type": "execute_result"
    },
    {
     "data": {
      "image/png": "[encoded data removed]",
      "text/plain": [
       "<Figure size 1200x500 with 1 Axes>"
      ]
     },
     "metadata": {},
     "output_type": "display_data"
    }
   ],
   "source": [
    "plt.figure(figsize = (12,5))\n",
    "plt.plot(df.Close)\n",
    "plt.plot(df['MA_100'], 'r')\n",
    "plt.title('100 Daya Moving average')\n",
    "plt.xlabel('Days')\n",
    "plt.ylabel('Price')\n"
   ]
  },
  {
   "cell_type": "code",
   "execution_count": 26,
   "id": "4a1ce0ad-dd67-4eb6-bb66-d2df53d3cec5",
   "metadata": {},
   "outputs": [
    {
     "data": {
      "text/plain": [
       "Text(0, 0.5, 'Price')"
      ]
     },
     "execution_count": 26,
     "metadata": {},
     "output_type": "execute_result"
    },
    {
     "data": {
      "image/png": "[encoded data removed]",
      "text/plain": [
       "<Figure size 1200x500 with 1 Axes>"
      ]
     },
     "metadata": {},
     "output_type": "display_data"
    }
   ],
   "source": [
    "# 200 days average\n",
    "df['MA_200'] = df.Close.rolling(200).mean()\n",
    "\n",
    "plt.figure(figsize = (12,5))\n",
    "plt.plot(df.Close)\n",
    "plt.plot(df['MA_100'], 'r')\n",
    "plt.plot(df['MA_200'], 'g')\n",
    "plt.title('200 Days Moving average')\n",
    "plt.xlabel('Days')\n",
    "plt.ylabel('Price')\n"
   ]
  },
  {
   "cell_type": "code",
   "execution_count": 27,
   "id": "00449f2f-c518-40be-8db9-4d3a15abbcab",
   "metadata": {},
   "outputs": [
    {
     "data": {
      "text/html": [
       "<div>\n",
       "<style scoped>\n",
       "    .dataframe tbody tr th:only-of-type {\n",
       "        vertical-align: middle;\n",
       "    }\n",
       "\n",
       "    .dataframe tbody tr th {\n",
       "        vertical-align: top;\n",
       "    }\n",
       "\n",
       "    .dataframe thead tr th {\n",
       "        text-align: left;\n",
       "    }\n",
       "</style>\n",
       "<table border=\"1\" class=\"dataframe\">\n",
       "  <thead>\n",
       "    <tr>\n",
       "      <th>Price</th>\n",
       "      <th>Close</th>\n",
       "      <th>Percentage Changed</th>\n",
       "    </tr>\n",
       "    <tr>\n",
       "      <th>Ticker</th>\n",
       "      <th>AAPL</th>\n",
       "      <th></th>\n",
       "    </tr>\n",
       "  </thead>\n",
       "  <tbody>\n",
       "    <tr>\n",
       "      <th>0</th>\n",
       "      <td>28.425873</td>\n",
       "      <td>NaN</td>\n",
       "    </tr>\n",
       "    <tr>\n",
       "      <th>1</th>\n",
       "      <td>28.578169</td>\n",
       "      <td>0.005358</td>\n",
       "    </tr>\n",
       "    <tr>\n",
       "      <th>2</th>\n",
       "      <td>28.510979</td>\n",
       "      <td>-0.002351</td>\n",
       "    </tr>\n",
       "    <tr>\n",
       "      <th>3</th>\n",
       "      <td>28.640881</td>\n",
       "      <td>0.004556</td>\n",
       "    </tr>\n",
       "    <tr>\n",
       "      <th>4</th>\n",
       "      <td>28.354197</td>\n",
       "      <td>-0.010010</td>\n",
       "    </tr>\n",
       "    <tr>\n",
       "      <th>...</th>\n",
       "      <td>...</td>\n",
       "      <td>...</td>\n",
       "    </tr>\n",
       "    <tr>\n",
       "      <th>2511</th>\n",
       "      <td>201.449997</td>\n",
       "      <td>-0.012113</td>\n",
       "    </tr>\n",
       "    <tr>\n",
       "      <th>2512</th>\n",
       "      <td>202.669998</td>\n",
       "      <td>0.006056</td>\n",
       "    </tr>\n",
       "    <tr>\n",
       "      <th>2513</th>\n",
       "      <td>198.779999</td>\n",
       "      <td>-0.019194</td>\n",
       "    </tr>\n",
       "    <tr>\n",
       "      <th>2514</th>\n",
       "      <td>199.199997</td>\n",
       "      <td>0.002113</td>\n",
       "    </tr>\n",
       "    <tr>\n",
       "      <th>2515</th>\n",
       "      <td>196.449997</td>\n",
       "      <td>-0.013805</td>\n",
       "    </tr>\n",
       "  </tbody>\n",
       "</table>\n",
       "<p>2516 rows × 2 columns</p>\n",
       "</div>"
      ],
      "text/plain": [
       "Price        Close Percentage Changed\n",
       "Ticker        AAPL                   \n",
       "0        28.425873                NaN\n",
       "1        28.578169           0.005358\n",
       "2        28.510979          -0.002351\n",
       "3        28.640881           0.004556\n",
       "4        28.354197          -0.010010\n",
       "...            ...                ...\n",
       "2511    201.449997          -0.012113\n",
       "2512    202.669998           0.006056\n",
       "2513    198.779999          -0.019194\n",
       "2514    199.199997           0.002113\n",
       "2515    196.449997          -0.013805\n",
       "\n",
       "[2516 rows x 2 columns]"
      ]
     },
     "execution_count": 27,
     "metadata": {},
     "output_type": "execute_result"
    }
   ],
   "source": [
    "# percentage changed in each trading in each days\n",
    "### calculating % changed in each trading session\n",
    "df['Percentage Changed'] = df.Close.pct_change()\n",
    "df[['Close', 'Percentage Changed']]"
   ]
  },
  {
   "cell_type": "code",
   "execution_count": 28,
   "id": "e28ebe57-7172-4652-96bf-6c93df854dd0",
   "metadata": {},
   "outputs": [
    {
     "data": {
      "text/plain": [
       "[<matplotlib.lines.Line2D at 0x127a68c10>]"
      ]
     },
     "execution_count": 28,
     "metadata": {},
     "output_type": "execute_result"
    },
    {
     "data": {
      "image/png": "[encoded data removed]",
      "text/plain": [
       "<Figure size 1200x500 with 1 Axes>"
      ]
     },
     "metadata": {},
     "output_type": "display_data"
    }
   ],
   "source": [
    "plt.figure(figsize=(12,5))\n",
    "plt.plot(df['Percentage Changed'])"
   ]
  },
  {
   "cell_type": "code",
   "execution_count": 29,
   "id": "5dc91ced-6eb1-4355-aea3-6a63787a1c9e",
   "metadata": {},
   "outputs": [
    {
     "data": {
      "text/plain": [
       "(2516, 9)"
      ]
     },
     "execution_count": 29,
     "metadata": {},
     "output_type": "execute_result"
    }
   ],
   "source": [
    "# 4 Daata pre processing\n",
    "# splitting data\n",
    "df.shape"
   ]
  },
  {
   "cell_type": "code",
   "execution_count": 30,
   "id": "66be476d-31c0-454b-b77b-66377abc2265",
   "metadata": {},
   "outputs": [
    {
     "name": "stdout",
     "output_type": "stream",
     "text": [
      "Ticker        AAPL\n",
      "1761    134.964722\n",
      "1762    129.797638\n",
      "1763    130.663712\n",
      "1764    133.291550\n",
      "1765    128.006363\n",
      "...            ...\n",
      "2511    201.449997\n",
      "2512    202.669998\n",
      "2513    198.779999\n",
      "2514    199.199997\n",
      "2515    196.449997\n",
      "\n",
      "[755 rows x 1 columns]\n",
      "Ticker        AAPL\n",
      "0        28.425873\n",
      "1        28.578169\n",
      "2        28.510979\n",
      "3        28.640881\n",
      "4        28.354197\n",
      "...            ...\n",
      "1756    143.084457\n",
      "1757    143.832443\n",
      "1758    146.361862\n",
      "1759    145.623734\n",
      "1760    140.387741\n",
      "\n",
      "[1761 rows x 1 columns]\n"
     ]
    }
   ],
   "source": [
    "# Splitting data into traingin ans testing datasets\n",
    "data_training = pd.DataFrame(df.Close[0:int(len(df)*0.7)])\n",
    "data_testing = pd.DataFrame(df.Close[int(len(df)*0.7): int(len(df))])\n",
    "print(data_testing)\n",
    "print(data_training)"
   ]
  },
  {
   "cell_type": "code",
   "execution_count": 31,
   "id": "60343040-039e-41ac-8e84-1aaf1e5afcb2",
   "metadata": {},
   "outputs": [
    {
     "data": {
      "text/html": [
       "<div>\n",
       "<style scoped>\n",
       "    .dataframe tbody tr th:only-of-type {\n",
       "        vertical-align: middle;\n",
       "    }\n",
       "\n",
       "    .dataframe tbody tr th {\n",
       "        vertical-align: top;\n",
       "    }\n",
       "\n",
       "    .dataframe thead th {\n",
       "        text-align: right;\n",
       "    }\n",
       "</style>\n",
       "<table border=\"1\" class=\"dataframe\">\n",
       "  <thead>\n",
       "    <tr style=\"text-align: right;\">\n",
       "      <th>Ticker</th>\n",
       "      <th>AAPL</th>\n",
       "    </tr>\n",
       "  </thead>\n",
       "  <tbody>\n",
       "    <tr>\n",
       "      <th>0</th>\n",
       "      <td>28.425873</td>\n",
       "    </tr>\n",
       "    <tr>\n",
       "      <th>1</th>\n",
       "      <td>28.578169</td>\n",
       "    </tr>\n",
       "    <tr>\n",
       "      <th>2</th>\n",
       "      <td>28.510979</td>\n",
       "    </tr>\n",
       "    <tr>\n",
       "      <th>3</th>\n",
       "      <td>28.640881</td>\n",
       "    </tr>\n",
       "    <tr>\n",
       "      <th>4</th>\n",
       "      <td>28.354197</td>\n",
       "    </tr>\n",
       "    <tr>\n",
       "      <th>...</th>\n",
       "      <td>...</td>\n",
       "    </tr>\n",
       "    <tr>\n",
       "      <th>1756</th>\n",
       "      <td>143.084457</td>\n",
       "    </tr>\n",
       "    <tr>\n",
       "      <th>1757</th>\n",
       "      <td>143.832443</td>\n",
       "    </tr>\n",
       "    <tr>\n",
       "      <th>1758</th>\n",
       "      <td>146.361862</td>\n",
       "    </tr>\n",
       "    <tr>\n",
       "      <th>1759</th>\n",
       "      <td>145.623734</td>\n",
       "    </tr>\n",
       "    <tr>\n",
       "      <th>1760</th>\n",
       "      <td>140.387741</td>\n",
       "    </tr>\n",
       "  </tbody>\n",
       "</table>\n",
       "<p>1761 rows × 1 columns</p>\n",
       "</div>"
      ],
      "text/plain": [
       "Ticker        AAPL\n",
       "0        28.425873\n",
       "1        28.578169\n",
       "2        28.510979\n",
       "3        28.640881\n",
       "4        28.354197\n",
       "...            ...\n",
       "1756    143.084457\n",
       "1757    143.832443\n",
       "1758    146.361862\n",
       "1759    145.623734\n",
       "1760    140.387741\n",
       "\n",
       "[1761 rows x 1 columns]"
      ]
     },
     "execution_count": 31,
     "metadata": {},
     "output_type": "execute_result"
    }
   ],
   "source": [
    "data_training"
   ]
  },
  {
   "cell_type": "code",
   "execution_count": 32,
   "id": "998605fc-ea15-4abf-bbe2-1a3f399a0c62",
   "metadata": {},
   "outputs": [],
   "source": [
    "# Scale down the data for LSTM we need to compress the data to fit 0 and 1\n",
    "\n",
    "\n",
    "from sklearn.preprocessing import MinMaxScaler\n",
    "scaler = MinMaxScaler(feature_range=(0,1))"
   ]
  },
  {
   "cell_type": "code",
   "execution_count": 33,
   "id": "adb7ac3d-1a76-4c66-9b44-3610716eaacd",
   "metadata": {},
   "outputs": [
    {
     "data": {
      "text/plain": [
       "array([[0.04923105],\n",
       "       [0.05019496],\n",
       "       [0.0497697 ],\n",
       "       ...,\n",
       "       [0.79566999],\n",
       "       [0.79099824],\n",
       "       [0.75785866]])"
      ]
     },
     "execution_count": 33,
     "metadata": {},
     "output_type": "execute_result"
    }
   ],
   "source": [
    "data_training_array = scaler.fit_transform(data_training)\n",
    "data_training_array"
   ]
  },
  {
   "cell_type": "code",
   "execution_count": 34,
   "id": "8441c5a5-f549-4e72-9fc0-d51fbdd39be1",
   "metadata": {},
   "outputs": [],
   "source": [
    "# 5 Sequence Creation\n",
    "# LSTM requires sequence data\n",
    "# 12,13,12,15,10,14,16,18,10,24  20\n",
    "# x_train = perviosu data y_train = predicted future\n"
   ]
  },
  {
   "cell_type": "code",
   "execution_count": 35,
   "id": "fd28e0b5-a10b-4820-bc54-9b5d6e9fb45f",
   "metadata": {},
   "outputs": [
    {
     "data": {
      "text/plain": [
       "3"
      ]
     },
     "execution_count": 35,
     "metadata": {},
     "output_type": "execute_result"
    }
   ],
   "source": [
    "x_train = []\n",
    "y_train = []\n",
    "\n",
    "for i in range(100, data_training_array.shape[0]):\n",
    "    x_train.append(data_training_array[i-100: i])\n",
    "    y_train.append(data_training_array[i, 0])\n",
    "x_train, y_train = np.array(x_train), np.array(y_train)\n",
    "x_train.ndim\n"
   ]
  },
  {
   "cell_type": "code",
   "execution_count": 36,
   "id": "13879e3d-5b4e-4dca-90ef-0632fcc634b7",
   "metadata": {},
   "outputs": [
    {
     "data": {
      "text/plain": [
       "1"
      ]
     },
     "execution_count": 36,
     "metadata": {},
     "output_type": "execute_result"
    }
   ],
   "source": [
    "y_train.ndim"
   ]
  },
  {
   "cell_type": "code",
   "execution_count": 37,
   "id": "3d5dbd26-9d2b-413b-b4f5-f4c7d866fd1f",
   "metadata": {},
   "outputs": [
    {
     "name": "stdout",
     "output_type": "stream",
     "text": [
      "3.10.18 (main, Jun  5 2025, 08:37:47) [Clang 14.0.6 ]\n"
     ]
    }
   ],
   "source": [
    "# 6 Building Machine Learning Model\n",
    "import sys\n",
    "print(sys.version)\n"
   ]
  },
  {
   "cell_type": "code",
   "execution_count": 38,
   "id": "b3f92ed3-add6-4915-b69f-a6526b4c6aa5",
   "metadata": {},
   "outputs": [
    {
     "name": "stdout",
     "output_type": "stream",
     "text": [
      "Requirement already satisfied: tensorflow in /opt/homebrew/Caskroom/miniconda/base/envs/stockenv/lib/python3.10/site-packages (2.19.0)\n",
      "Requirement already satisfied: absl-py>=1.0.0 in /opt/homebrew/Caskroom/miniconda/base/envs/stockenv/lib/python3.10/site-packages (from tensorflow) (2.1.0)\n",
      "Requirement already satisfied: astunparse>=1.6.0 in /opt/homebrew/Caskroom/miniconda/base/envs/stockenv/lib/python3.10/site-packages (from tensorflow) (1.6.3)\n",
      "Requirement already satisfied: flatbuffers>=24.3.25 in /opt/homebrew/Caskroom/miniconda/base/envs/stockenv/lib/python3.10/site-packages (from tensorflow) (25.2.10)\n",
      "Requirement already satisfied: gast!=0.5.0,!=0.5.1,!=0.5.2,>=0.2.1 in /opt/homebrew/Caskroom/miniconda/base/envs/stockenv/lib/python3.10/site-packages (from tensorflow) (0.6.0)\n",
      "Requirement already satisfied: google-pasta>=0.1.1 in /opt/homebrew/Caskroom/miniconda/base/envs/stockenv/lib/python3.10/site-packages (from tensorflow) (0.2.0)\n",
      "Requirement already satisfied: libclang>=13.0.0 in /opt/homebrew/Caskroom/miniconda/base/envs/stockenv/lib/python3.10/site-packages (from tensorflow) (18.1.1)\n",
      "Requirement already satisfied: opt-einsum>=2.3.2 in /opt/homebrew/Caskroom/miniconda/base/envs/stockenv/lib/python3.10/site-packages (from tensorflow) (3.4.0)\n",
      "Requirement already satisfied: packaging in /opt/homebrew/Caskroom/miniconda/base/envs/stockenv/lib/python3.10/site-packages (from tensorflow) (24.2)\n",
      "Requirement already satisfied: protobuf!=4.21.0,!=4.21.1,!=4.21.2,!=4.21.3,!=4.21.4,!=4.21.5,<6.0.0dev,>=3.20.3 in /opt/homebrew/Caskroom/miniconda/base/envs/stockenv/lib/python3.10/site-packages (from tensorflow) (5.29.5)\n",
      "Requirement already satisfied: requests<3,>=2.21.0 in /opt/homebrew/Caskroom/miniconda/base/envs/stockenv/lib/python3.10/site-packages (from tensorflow) (2.32.3)\n",
      "Requirement already satisfied: setuptools in /opt/homebrew/Caskroom/miniconda/base/envs/stockenv/lib/python3.10/site-packages (from tensorflow) (72.1.0)\n",
      "Requirement already satisfied: six>=1.12.0 in /opt/homebrew/Caskroom/miniconda/base/envs/stockenv/lib/python3.10/site-packages (from tensorflow) (1.17.0)\n",
      "Requirement already satisfied: termcolor>=1.1.0 in /opt/homebrew/Caskroom/miniconda/base/envs/stockenv/lib/python3.10/site-packages (from tensorflow) (3.1.0)\n",
      "Requirement already satisfied: typing-extensions>=3.6.6 in /opt/homebrew/Caskroom/miniconda/base/envs/stockenv/lib/python3.10/site-packages (from tensorflow) (4.12.2)\n",
      "Requirement already satisfied: wrapt>=1.11.0 in /opt/homebrew/Caskroom/miniconda/base/envs/stockenv/lib/python3.10/site-packages (from tensorflow) (1.17.2)\n",
      "Requirement already satisfied: grpcio<2.0,>=1.24.3 in /opt/homebrew/Caskroom/miniconda/base/envs/stockenv/lib/python3.10/site-packages (from tensorflow) (1.73.0)\n",
      "Requirement already satisfied: tensorboard~=2.19.0 in /opt/homebrew/Caskroom/miniconda/base/envs/stockenv/lib/python3.10/site-packages (from tensorflow) (2.19.0)\n",
      "Requirement already satisfied: keras>=3.5.0 in /opt/homebrew/Caskroom/miniconda/base/envs/stockenv/lib/python3.10/site-packages (from tensorflow) (3.6.0)\n",
      "Requirement already satisfied: numpy<2.2.0,>=1.26.0 in /opt/homebrew/Caskroom/miniconda/base/envs/stockenv/lib/python3.10/site-packages (from tensorflow) (2.1.3)\n",
      "Requirement already satisfied: h5py>=3.11.0 in /opt/homebrew/Caskroom/miniconda/base/envs/stockenv/lib/python3.10/site-packages (from tensorflow) (3.12.1)\n",
      "Requirement already satisfied: ml-dtypes<1.0.0,>=0.5.1 in /opt/homebrew/Caskroom/miniconda/base/envs/stockenv/lib/python3.10/site-packages (from tensorflow) (0.5.1)\n",
      "Requirement already satisfied: tensorflow-io-gcs-filesystem>=0.23.1 in /opt/homebrew/Caskroom/miniconda/base/envs/stockenv/lib/python3.10/site-packages (from tensorflow) (0.37.1)\n",
      "Requirement already satisfied: charset-normalizer<4,>=2 in /opt/homebrew/Caskroom/miniconda/base/envs/stockenv/lib/python3.10/site-packages (from requests<3,>=2.21.0->tensorflow) (3.3.2)\n",
      "Requirement already satisfied: idna<4,>=2.5 in /opt/homebrew/Caskroom/miniconda/base/envs/stockenv/lib/python3.10/site-packages (from requests<3,>=2.21.0->tensorflow) (3.7)\n",
      "Requirement already satisfied: urllib3<3,>=1.21.1 in /opt/homebrew/Caskroom/miniconda/base/envs/stockenv/lib/python3.10/site-packages (from requests<3,>=2.21.0->tensorflow) (2.3.0)\n",
      "Requirement already satisfied: certifi>=2017.4.17 in /opt/homebrew/Caskroom/miniconda/base/envs/stockenv/lib/python3.10/site-packages (from requests<3,>=2.21.0->tensorflow) (2025.4.26)\n",
      "Requirement already satisfied: markdown>=2.6.8 in /opt/homebrew/Caskroom/miniconda/base/envs/stockenv/lib/python3.10/site-packages (from tensorboard~=2.19.0->tensorflow) (3.8)\n",
      "Requirement already satisfied: tensorboard-data-server<0.8.0,>=0.7.0 in /opt/homebrew/Caskroom/miniconda/base/envs/stockenv/lib/python3.10/site-packages (from tensorboard~=2.19.0->tensorflow) (0.7.2)\n",
      "Requirement already satisfied: werkzeug>=1.0.1 in /opt/homebrew/Caskroom/miniconda/base/envs/stockenv/lib/python3.10/site-packages (from tensorboard~=2.19.0->tensorflow) (3.1.3)\n",
      "Requirement already satisfied: wheel<1.0,>=0.23.0 in /opt/homebrew/Caskroom/miniconda/base/envs/stockenv/lib/python3.10/site-packages (from astunparse>=1.6.0->tensorflow) (0.45.1)\n",
      "Requirement already satisfied: rich in /opt/homebrew/Caskroom/miniconda/base/envs/stockenv/lib/python3.10/site-packages (from keras>=3.5.0->tensorflow) (13.9.4)\n",
      "Requirement already satisfied: namex in /opt/homebrew/Caskroom/miniconda/base/envs/stockenv/lib/python3.10/site-packages (from keras>=3.5.0->tensorflow) (0.0.7)\n",
      "Requirement already satisfied: optree in /opt/homebrew/Caskroom/miniconda/base/envs/stockenv/lib/python3.10/site-packages (from keras>=3.5.0->tensorflow) (0.14.1)\n",
      "Requirement already satisfied: MarkupSafe>=2.1.1 in /opt/homebrew/Caskroom/miniconda/base/envs/stockenv/lib/python3.10/site-packages (from werkzeug>=1.0.1->tensorboard~=2.19.0->tensorflow) (3.0.2)\n",
      "Requirement already satisfied: markdown-it-py>=2.2.0 in /opt/homebrew/Caskroom/miniconda/base/envs/stockenv/lib/python3.10/site-packages (from rich->keras>=3.5.0->tensorflow) (2.2.0)\n",
      "Requirement already satisfied: pygments<3.0.0,>=2.13.0 in /opt/homebrew/Caskroom/miniconda/base/envs/stockenv/lib/python3.10/site-packages (from rich->keras>=3.5.0->tensorflow) (2.19.1)\n",
      "Requirement already satisfied: mdurl~=0.1 in /opt/homebrew/Caskroom/miniconda/base/envs/stockenv/lib/python3.10/site-packages (from markdown-it-py>=2.2.0->rich->keras>=3.5.0->tensorflow) (0.1.0)\n"
     ]
    }
   ],
   "source": [
    "!pip install tensorflow"
   ]
  },
  {
   "cell_type": "code",
   "execution_count": 40,
   "id": "50d62648-fc91-4354-9ae1-7d91be064775",
   "metadata": {},
   "outputs": [
    {
     "name": "stdout",
     "output_type": "stream",
     "text": [
      "2.19.0\n"
     ]
    }
   ],
   "source": [
    "import tensorflow as tf\n",
    "print(tf.__version__)"
   ]
  },
  {
   "cell_type": "code",
   "execution_count": null,
   "id": "3ed48b2b-de98-46f3-935a-41dce0916d5f",
   "metadata": {},
   "outputs": [],
   "source": []
  }
 ],
 "metadata": {
  "kernelspec": {
   "display_name": "Python 3 (ipykernel)",
   "language": "python",
   "name": "python3"
  },
  "language_info": {
   "codemirror_mode": {
    "name": "ipython",
    "version": 3
   },
   "file_extension": ".py",
   "mimetype": "text/x-python",
   "name": "python",
   "nbconvert_exporter": "python",
   "pygments_lexer": "ipython3",
   "version": "3.10.18"
  }
 },
 "nbformat": 4,
 "nbformat_minor": 5
}
